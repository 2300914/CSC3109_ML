{
  "cells": [
    {
      "cell_type": "markdown",
      "metadata": {
        "id": "gNthvOr1xaR7"
      },
      "source": [
        "![](https://raw.githubusercontent.com/UGS-CS/CSC3009/master/mashead.svg)"
      ]
    },
    {
      "cell_type": "markdown",
      "metadata": {
        "id": "SB3lugreyieO"
      },
      "source": [
        "# <center>**Team 16**</center>"
      ]
    },
    {
      "cell_type": "code",
      "execution_count": 1,
      "metadata": {
        "id": "FLgP4h8eCiQw"
      },
      "outputs": [],
      "source": [
        "# import libaries\n",
        "import os\n",
        "import tensorflow as tf\n",
        "import matplotlib.pyplot as plt\n",
        "import pandas as pd\n",
        "import seaborn as sns"
      ]
    },
    {
      "cell_type": "markdown",
      "metadata": {
        "id": "mxeTHVm7CaMy"
      },
      "source": [
        "## **1. Exploratory data analysis**"
      ]
    },
    {
      "cell_type": "code",
      "source": [
        "# Define paths\n",
        "DATASET_PATH = \"dataset\"\n",
        "\n",
        "CLASSES = ['glioma', 'meningioma', 'notumor', 'pituitary']"
      ],
      "metadata": {
        "id": "GEFqi_zhkS8B"
      },
      "execution_count": 2,
      "outputs": []
    },
    {
      "cell_type": "code",
      "source": [
        "def eda_analysis():\n",
        "    # 1. Class distribution\n",
        "    train_counts = {cls: len(os.listdir(f\"{DATASET_PATH}/training/{cls}\"))\n",
        "                   for cls in CLASSES}\n",
        "    test_counts = {cls: len(os.listdir(f\"{DATASET_PATH}/test/{cls}\"))\n",
        "                  for cls in CLASSES}\n",
        "\n",
        "    # 2. Image size analysis\n",
        "    size_stats = {}\n",
        "    for split in ['training', 'test']:\n",
        "        for cls in CLASSES:\n",
        "            sizes = []\n",
        "            for img in os.listdir(f\"{DATASET_PATH}/{split}/{cls}\"):\n",
        "                img_path = f\"{DATASET_PATH}/{split}/{cls}/{img}\"\n",
        "                img = tf.io.read_file(img_path)\n",
        "                img = tf.image.decode_image(img)\n",
        "                sizes.append(img.shape[:2])\n",
        "            size_stats[f\"{split}_{cls}\"] = sizes\n",
        "\n",
        "    # 3. Patient overlap check\n",
        "    patient_ids = {}\n",
        "    for split in ['training', 'test']:\n",
        "        for cls in CLASSES:\n",
        "            ids = set([f.split('_')[0] for f in os.listdir(f\"{DATASET_PATH}/{split}/{cls}\")])\n",
        "            patient_ids[f\"{split}_{cls}\"] = ids\n",
        "\n",
        "    # 4. Visualization\n",
        "    plt.figure(figsize=(15,5))\n",
        "    plt.subplot(1,2,1)\n",
        "    sns.barplot(x=list(train_counts.keys()), y=list(train_counts.values()))\n",
        "    plt.title(\"Training Set Distribution\")\n",
        "\n",
        "    plt.subplot(1,2,2)\n",
        "    sns.barplot(x=list(test_counts.keys()), y=list(test_counts.values()))\n",
        "    plt.title(\"Test Set Distribution\")\n",
        "    plt.show()\n",
        "\n",
        "eda_analysis()"
      ],
      "metadata": {
        "id": "lXgY010zhGIy",
        "outputId": "145b5fa1-bbab-44f2-df6c-3d87dcdc81cb",
        "colab": {
          "base_uri": "https://localhost:8080/",
          "height": 321
        }
      },
      "execution_count": 3,
      "outputs": [
        {
          "output_type": "error",
          "ename": "FileNotFoundError",
          "evalue": "[Errno 2] No such file or directory: 'dataset/training/glioma'",
          "traceback": [
            "\u001b[0;31m---------------------------------------------------------------------------\u001b[0m",
            "\u001b[0;31mFileNotFoundError\u001b[0m                         Traceback (most recent call last)",
            "\u001b[0;32m<ipython-input-3-44719827409c>\u001b[0m in \u001b[0;36m<cell line: 0>\u001b[0;34m()\u001b[0m\n\u001b[1;32m     36\u001b[0m     \u001b[0mplt\u001b[0m\u001b[0;34m.\u001b[0m\u001b[0mshow\u001b[0m\u001b[0;34m(\u001b[0m\u001b[0;34m)\u001b[0m\u001b[0;34m\u001b[0m\u001b[0;34m\u001b[0m\u001b[0m\n\u001b[1;32m     37\u001b[0m \u001b[0;34m\u001b[0m\u001b[0m\n\u001b[0;32m---> 38\u001b[0;31m \u001b[0meda_analysis\u001b[0m\u001b[0;34m(\u001b[0m\u001b[0;34m)\u001b[0m\u001b[0;34m\u001b[0m\u001b[0;34m\u001b[0m\u001b[0m\n\u001b[0m",
            "\u001b[0;32m<ipython-input-3-44719827409c>\u001b[0m in \u001b[0;36meda_analysis\u001b[0;34m()\u001b[0m\n\u001b[1;32m      1\u001b[0m \u001b[0;32mdef\u001b[0m \u001b[0meda_analysis\u001b[0m\u001b[0;34m(\u001b[0m\u001b[0;34m)\u001b[0m\u001b[0;34m:\u001b[0m\u001b[0;34m\u001b[0m\u001b[0;34m\u001b[0m\u001b[0m\n\u001b[1;32m      2\u001b[0m     \u001b[0;31m# 1. Class distribution\u001b[0m\u001b[0;34m\u001b[0m\u001b[0;34m\u001b[0m\u001b[0m\n\u001b[0;32m----> 3\u001b[0;31m     train_counts = {cls: len(os.listdir(f\"{DATASET_PATH}/training/{cls}\")) \n\u001b[0m\u001b[1;32m      4\u001b[0m                    for cls in CLASSES}\n\u001b[1;32m      5\u001b[0m     test_counts = {cls: len(os.listdir(f\"{DATASET_PATH}/test/{cls}\")) \n",
            "\u001b[0;32m<ipython-input-3-44719827409c>\u001b[0m in \u001b[0;36m<dictcomp>\u001b[0;34m(.0)\u001b[0m\n\u001b[1;32m      1\u001b[0m \u001b[0;32mdef\u001b[0m \u001b[0meda_analysis\u001b[0m\u001b[0;34m(\u001b[0m\u001b[0;34m)\u001b[0m\u001b[0;34m:\u001b[0m\u001b[0;34m\u001b[0m\u001b[0;34m\u001b[0m\u001b[0m\n\u001b[1;32m      2\u001b[0m     \u001b[0;31m# 1. Class distribution\u001b[0m\u001b[0;34m\u001b[0m\u001b[0;34m\u001b[0m\u001b[0m\n\u001b[0;32m----> 3\u001b[0;31m     train_counts = {cls: len(os.listdir(f\"{DATASET_PATH}/training/{cls}\")) \n\u001b[0m\u001b[1;32m      4\u001b[0m                    for cls in CLASSES}\n\u001b[1;32m      5\u001b[0m     test_counts = {cls: len(os.listdir(f\"{DATASET_PATH}/test/{cls}\")) \n",
            "\u001b[0;31mFileNotFoundError\u001b[0m: [Errno 2] No such file or directory: 'dataset/training/glioma'"
          ]
        }
      ]
    },
    {
      "cell_type": "markdown",
      "source": [
        "## **2. Data preparation and pre-processing**"
      ],
      "metadata": {
        "id": "Mmup8LI5g8qA"
      }
    },
    {
      "cell_type": "code",
      "source": [
        "def load_and_analyze_dataset():\n",
        "    \"\"\"Main EDA function for brain MRI analysis\"\"\"\n",
        "    # 1. Class distribution analysis\n",
        "    train_counts, test_counts = get_class_distribution()\n",
        "    plot_class_distribution(train_counts, test_counts)\n",
        "\n",
        "    # 2. Image size analysis\n",
        "    size_stats = analyze_image_sizes()\n",
        "    plot_size_distribution(size_stats)\n",
        "\n",
        "    # 3. Multi-view analysis\n",
        "    view_stats = analyze_image_views()\n",
        "    plot_view_distribution(view_stats)\n",
        "\n",
        "    # 4. Patient overlap check\n",
        "    check_patient_overlap()\n",
        "\n",
        "    # 5. Visual sample analysis\n",
        "    visualize_samples()\n"
      ],
      "metadata": {
        "id": "TumGCaF4kxGv"
      },
      "execution_count": null,
      "outputs": []
    },
    {
      "cell_type": "code",
      "source": [],
      "metadata": {
        "id": "6iH8o0vvnDhA"
      },
      "execution_count": null,
      "outputs": []
    },
    {
      "cell_type": "code",
      "source": [],
      "metadata": {
        "id": "zG6447BBnGbG"
      },
      "execution_count": null,
      "outputs": []
    }
  ],
  "metadata": {
    "colab": {
      "provenance": []
    },
    "kernelspec": {
      "display_name": "Python 3",
      "name": "python3"
    },
    "language_info": {
      "name": "python"
    }
  },
  "nbformat": 4,
  "nbformat_minor": 0
}