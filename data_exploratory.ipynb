{
  "cells": [
    {
      "cell_type": "markdown",
      "metadata": {
        "id": "gNthvOr1xaR7"
      },
      "source": [
        "![](https://raw.githubusercontent.com/UGS-CS/CSC3009/master/mashead.svg)"
      ]
    },
    {
      "cell_type": "markdown",
      "metadata": {
        "id": "SB3lugreyieO"
      },
      "source": [
        "# <center>**Lab 04: Neural Networks**</center>"
      ]
    },
    {
      "cell_type": "markdown",
      "metadata": {
        "id": "mxeTHVm7CaMy"
      },
      "source": [
        "## **1. Data**\n",
        "\n"
      ]
    },
    {
      "cell_type": "markdown",
      "metadata": {
        "id": "IDE39QNzM2gY"
      },
      "source": [
        "In this lab, you will build a simple perceptron network with the use of gradient descent algorithm."
      ]
    },
    {
      "cell_type": "markdown",
      "metadata": {
        "id": "Q8Vx3ugnCmFn"
      },
      "source": [
        "Import libraries and settings"
      ]
    },
    {
      "cell_type": "code",
      "execution_count": null,
      "metadata": {
        "id": "FLgP4h8eCiQw"
      },
      "outputs": [],
      "source": [
        "# CSC3109 ML Team 16"
      ]
    }
  ],
  "metadata": {
    "colab": {
      "provenance": []
    },
    "kernelspec": {
      "display_name": "Python 3",
      "name": "python3"
    },
    "language_info": {
      "name": "python"
    }
  },
  "nbformat": 4,
  "nbformat_minor": 0
}
